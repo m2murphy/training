{
 "cells": [
  {
   "cell_type": "code",
   "execution_count": 1,
   "metadata": {
    "collapsed": false
   },
   "outputs": [
    {
     "name": "stderr",
     "output_type": "stream",
     "text": [
      "/Users/markmandel/anaconda/lib/python3.5/site-packages/pandas/computation/__init__.py:19: UserWarning: The installed version of numexpr 2.4.4 is not supported in pandas and will be not be used\n",
      "\n",
      "  UserWarning)\n",
      "/Users/markmandel/anaconda/lib/python3.5/site-packages/matplotlib/__init__.py:872: UserWarning: axes.color_cycle is deprecated and replaced with axes.prop_cycle; please use the latter.\n",
      "  warnings.warn(self.msg_depr % (key, alt_key))\n"
     ]
    }
   ],
   "source": [
    "import numpy as np\n",
    "import pandas as pd\n",
    "import matplotlib.pyplot as plt\n",
    "import seaborn as sns\n",
    "%matplotlib inline"
   ]
  },
  {
   "cell_type": "markdown",
   "metadata": {},
   "source": [
    "In Markdown, this is the right way to make links:\n",
    "\n",
    "```\n",
    "[10 minutes to `pandas`](http://pandas.pydata.org/pandas-docs/stable/10min.html)\n",
    "```\n",
    "\n",
    "[10 minutes to `pandas`](http://pandas.pydata.org/pandas-docs/stable/10min.html)"
   ]
  },
  {
   "cell_type": "code",
   "execution_count": 2,
   "metadata": {
    "collapsed": false
   },
   "outputs": [
    {
     "ename": "SyntaxError",
     "evalue": "invalid syntax (<ipython-input-2-2f2887b59a92>, line 2)",
     "output_type": "error",
     "traceback": [
      "\u001b[0;36m  File \u001b[0;32m\"<ipython-input-2-2f2887b59a92>\"\u001b[0;36m, line \u001b[0;32m2\u001b[0m\n\u001b[0;31m    df = pandas.DataFrame({'Name': 'Mark', 'Denise', 'Ella', 'Jackie', 'Jing', 'Jyoti',\u001b[0m\n\u001b[0m                                                   ^\u001b[0m\n\u001b[0;31mSyntaxError\u001b[0m\u001b[0;31m:\u001b[0m invalid syntax\n"
     ]
    }
   ],
   "source": [
    "# This will not work\n",
    "df = pandas.DataFrame({'Name': 'Mark', 'Denise', 'Ella', 'Jackie', 'Jing', 'Jyoti',\n",
    "                       'Position': 'PI', 'Graduate Student', 'Postdoc', 'Technician', 'Undergraduate Student', 'Undergraduate Student',\n",
    "                       'Here_on_Monday': True, True, True, False, False, False})"
   ]
  },
  {
   "cell_type": "code",
   "execution_count": 8,
   "metadata": {
    "collapsed": false
   },
   "outputs": [
    {
     "data": {
      "text/html": [
       "<div>\n",
       "<table border=\"1\" class=\"dataframe\">\n",
       "  <thead>\n",
       "    <tr style=\"text-align: right;\">\n",
       "      <th></th>\n",
       "      <th>Here_on_Monday</th>\n",
       "      <th>Name</th>\n",
       "      <th>Position</th>\n",
       "    </tr>\n",
       "  </thead>\n",
       "  <tbody>\n",
       "    <tr>\n",
       "      <th>0</th>\n",
       "      <td>True</td>\n",
       "      <td>Mark</td>\n",
       "      <td>PI</td>\n",
       "    </tr>\n",
       "    <tr>\n",
       "      <th>1</th>\n",
       "      <td>True</td>\n",
       "      <td>Denise</td>\n",
       "      <td>Graduate Student</td>\n",
       "    </tr>\n",
       "    <tr>\n",
       "      <th>2</th>\n",
       "      <td>True</td>\n",
       "      <td>Ella</td>\n",
       "      <td>Postdoc</td>\n",
       "    </tr>\n",
       "    <tr>\n",
       "      <th>3</th>\n",
       "      <td>False</td>\n",
       "      <td>Jackie</td>\n",
       "      <td>Technician</td>\n",
       "    </tr>\n",
       "    <tr>\n",
       "      <th>4</th>\n",
       "      <td>False</td>\n",
       "      <td>Jing</td>\n",
       "      <td>Undergraduate Student</td>\n",
       "    </tr>\n",
       "    <tr>\n",
       "      <th>5</th>\n",
       "      <td>False</td>\n",
       "      <td>Jyoti</td>\n",
       "      <td>Undergraduate Student</td>\n",
       "    </tr>\n",
       "  </tbody>\n",
       "</table>\n",
       "</div>"
      ],
      "text/plain": [
       "  Here_on_Monday    Name               Position\n",
       "0           True    Mark                     PI\n",
       "1           True  Denise       Graduate Student\n",
       "2           True    Ella                Postdoc\n",
       "3          False  Jackie             Technician\n",
       "4          False    Jing  Undergraduate Student\n",
       "5          False   Jyoti  Undergraduate Student"
      ]
     },
     "execution_count": 8,
     "metadata": {},
     "output_type": "execute_result"
    }
   ],
   "source": [
    "# Oops. Didn't work for two reasons. (1) pandas instead of pd. (2) Need list to enclose items.\n",
    "# (but usually we are importing from csv...)\n",
    "df = pd.DataFrame({'Name': ['Mark', 'Denise', 'Ella', 'Jackie', 'Jing', 'Jyoti'],\n",
    "                   'Position': ['PI', 'Graduate Student', 'Postdoc', 'Technician', 'Undergraduate Student', 'Undergraduate Student'],\n",
    "                   'Here_on_Monday': [True, True, True, False, False, False]})\n",
    "df"
   ]
  },
  {
   "cell_type": "markdown",
   "metadata": {},
   "source": [
    "### Dictionaries are unordered (for now...)\n",
    "Notice that the order of the columns is different from what was specified.  \n",
    "Python dictionaries are unordered. But this is changing in Python 3.6 probably. Stay tuned...  \n",
    "There is an orderedDict in the collections module."
   ]
  },
  {
   "cell_type": "markdown",
   "metadata": {},
   "source": [
    "Link to [Chris Albon's site for pandas cheat sheet](http://chrisalbon.com)"
   ]
  },
  {
   "cell_type": "markdown",
   "metadata": {},
   "source": [
    "### Glob"
   ]
  },
  {
   "cell_type": "markdown",
   "metadata": {},
   "source": [
    "### First I'm going to make a bunch of files in a directory called 'yo1.txt', 'yo2.txt', 'yo3.txt'"
   ]
  },
  {
   "cell_type": "code",
   "execution_count": 15,
   "metadata": {
    "collapsed": true
   },
   "outputs": [],
   "source": [
    "!touch yo1.txt yo2.txt yo3.txt"
   ]
  },
  {
   "cell_type": "code",
   "execution_count": 16,
   "metadata": {
    "collapsed": false
   },
   "outputs": [
    {
     "name": "stdout",
     "output_type": "stream",
     "text": [
      "2016-09-30-software-carpenty-leftovers.ipynb\r\n",
      "yo1.txt\r\n",
      "yo2.txt\r\n",
      "yo3.txt\r\n"
     ]
    }
   ],
   "source": [
    "!ls"
   ]
  },
  {
   "cell_type": "code",
   "execution_count": 17,
   "metadata": {
    "collapsed": true
   },
   "outputs": [],
   "source": [
    "import glob"
   ]
  },
  {
   "cell_type": "code",
   "execution_count": 20,
   "metadata": {
    "collapsed": false
   },
   "outputs": [
    {
     "data": {
      "text/plain": [
       "['2016-09-30-software-carpenty-leftovers.ipynb',\n",
       " 'yo1.txt',\n",
       " 'yo2.txt',\n",
       " 'yo3.txt']"
      ]
     },
     "execution_count": 20,
     "metadata": {},
     "output_type": "execute_result"
    }
   ],
   "source": [
    "glob.glob('*')"
   ]
  },
  {
   "cell_type": "code",
   "execution_count": 21,
   "metadata": {
    "collapsed": false
   },
   "outputs": [
    {
     "data": {
      "text/plain": [
       "['yo1.txt', 'yo2.txt', 'yo3.txt']"
      ]
     },
     "execution_count": 21,
     "metadata": {},
     "output_type": "execute_result"
    }
   ],
   "source": [
    "glob.glob('*.txt')"
   ]
  },
  {
   "cell_type": "code",
   "execution_count": 22,
   "metadata": {
    "collapsed": false
   },
   "outputs": [
    {
     "name": "stdout",
     "output_type": "stream",
     "text": [
      "yo1.txt\n",
      "yo2.txt\n",
      "yo3.txt\n"
     ]
    }
   ],
   "source": [
    "for filename in glob.glob('*.txt'):\n",
    "    print(filename)"
   ]
  },
  {
   "cell_type": "code",
   "execution_count": 23,
   "metadata": {
    "collapsed": false
   },
   "outputs": [
    {
     "name": "stdout",
     "output_type": "stream",
     "text": [
      "yo1\n",
      "yo2\n",
      "yo3\n"
     ]
    }
   ],
   "source": [
    "for filename in glob.glob('*.txt'):\n",
    "    root = filename.split('.')[0]\n",
    "    print(root)"
   ]
  },
  {
   "cell_type": "code",
   "execution_count": 24,
   "metadata": {
    "collapsed": true
   },
   "outputs": [],
   "source": [
    "for filename in glob.glob('*.txt'):\n",
    "    # save a blank file with the same root (.blank)\n",
    "    root = filename.split('.')[0]\n",
    "    with open(root + '.blank', 'w') as f:\n",
    "        pass"
   ]
  },
  {
   "cell_type": "code",
   "execution_count": 25,
   "metadata": {
    "collapsed": false
   },
   "outputs": [
    {
     "name": "stdout",
     "output_type": "stream",
     "text": [
      "2016-09-30-software-carpenty-leftovers.ipynb\r\n",
      "yo1.blank\r\n",
      "yo1.txt\r\n",
      "yo2.blank\r\n",
      "yo2.txt\r\n",
      "yo3.blank\r\n",
      "yo3.txt\r\n"
     ]
    }
   ],
   "source": [
    "!ls"
   ]
  },
  {
   "cell_type": "code",
   "execution_count": null,
   "metadata": {
    "collapsed": true
   },
   "outputs": [],
   "source": []
  }
 ],
 "metadata": {
  "kernelspec": {
   "display_name": "Python 3",
   "language": "python",
   "name": "python3"
  },
  "language_info": {
   "codemirror_mode": {
    "name": "ipython",
    "version": 3
   },
   "file_extension": ".py",
   "mimetype": "text/x-python",
   "name": "python",
   "nbconvert_exporter": "python",
   "pygments_lexer": "ipython3",
   "version": "3.5.2"
  }
 },
 "nbformat": 4,
 "nbformat_minor": 0
}
